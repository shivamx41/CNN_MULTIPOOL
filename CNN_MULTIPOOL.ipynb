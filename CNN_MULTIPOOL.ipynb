{
  "nbformat": 4,
  "nbformat_minor": 0,
  "metadata": {
    "colab": {
      "name": "CNN_MULTIPOOL.ipynb",
      "provenance": [],
      "collapsed_sections": []
    },
    "kernelspec": {
      "name": "python3",
      "display_name": "Python 3"
    },
    "language_info": {
      "name": "python"
    }
  },
  "cells": [
    {
      "cell_type": "code",
      "metadata": {
        "id": "B7ZKxrRiuzbe"
      },
      "source": [
        "import tensorflow as tf\n",
        "from tensorflow.keras import datasets, layers, models\n",
        "import matplotlib.pyplot as plt\n",
        "import numpy as np"
      ],
      "execution_count": 120,
      "outputs": []
    },
    {
      "cell_type": "code",
      "metadata": {
        "colab": {
          "base_uri": "https://localhost:8080/"
        },
        "id": "v3sz3pr9xO69",
        "outputId": "e2daf4aa-79d0-46cd-ad9f-381c3ba2e31b"
      },
      "source": [
        "(X_train, Y_train), (X_test, Y_test) = datasets.cifar10.load_data()\n",
        "X_train.shape"
      ],
      "execution_count": 121,
      "outputs": [
        {
          "output_type": "execute_result",
          "data": {
            "text/plain": [
              "(50000, 32, 32, 3)"
            ]
          },
          "metadata": {},
          "execution_count": 121
        }
      ]
    },
    {
      "cell_type": "code",
      "metadata": {
        "colab": {
          "base_uri": "https://localhost:8080/"
        },
        "id": "rDBJ57FJy3ml",
        "outputId": "549bd521-a07f-4eee-99e1-89a261531b0a"
      },
      "source": [
        "X_test.shape"
      ],
      "execution_count": 122,
      "outputs": [
        {
          "output_type": "execute_result",
          "data": {
            "text/plain": [
              "(10000, 32, 32, 3)"
            ]
          },
          "metadata": {},
          "execution_count": 122
        }
      ]
    },
    {
      "cell_type": "code",
      "metadata": {
        "colab": {
          "base_uri": "https://localhost:8080/"
        },
        "id": "-TPy6g5kzKOc",
        "outputId": "74a0e915-925f-4c8d-bc97-8e70932182df"
      },
      "source": [
        "X_train[0]"
      ],
      "execution_count": 123,
      "outputs": [
        {
          "output_type": "execute_result",
          "data": {
            "text/plain": [
              "array([[[ 59,  62,  63],\n",
              "        [ 43,  46,  45],\n",
              "        [ 50,  48,  43],\n",
              "        ...,\n",
              "        [158, 132, 108],\n",
              "        [152, 125, 102],\n",
              "        [148, 124, 103]],\n",
              "\n",
              "       [[ 16,  20,  20],\n",
              "        [  0,   0,   0],\n",
              "        [ 18,   8,   0],\n",
              "        ...,\n",
              "        [123,  88,  55],\n",
              "        [119,  83,  50],\n",
              "        [122,  87,  57]],\n",
              "\n",
              "       [[ 25,  24,  21],\n",
              "        [ 16,   7,   0],\n",
              "        [ 49,  27,   8],\n",
              "        ...,\n",
              "        [118,  84,  50],\n",
              "        [120,  84,  50],\n",
              "        [109,  73,  42]],\n",
              "\n",
              "       ...,\n",
              "\n",
              "       [[208, 170,  96],\n",
              "        [201, 153,  34],\n",
              "        [198, 161,  26],\n",
              "        ...,\n",
              "        [160, 133,  70],\n",
              "        [ 56,  31,   7],\n",
              "        [ 53,  34,  20]],\n",
              "\n",
              "       [[180, 139,  96],\n",
              "        [173, 123,  42],\n",
              "        [186, 144,  30],\n",
              "        ...,\n",
              "        [184, 148,  94],\n",
              "        [ 97,  62,  34],\n",
              "        [ 83,  53,  34]],\n",
              "\n",
              "       [[177, 144, 116],\n",
              "        [168, 129,  94],\n",
              "        [179, 142,  87],\n",
              "        ...,\n",
              "        [216, 184, 140],\n",
              "        [151, 118,  84],\n",
              "        [123,  92,  72]]], dtype=uint8)"
            ]
          },
          "metadata": {},
          "execution_count": 123
        }
      ]
    },
    {
      "cell_type": "code",
      "metadata": {
        "colab": {
          "base_uri": "https://localhost:8080/",
          "height": 283
        },
        "id": "JEGQ7n_szRzJ",
        "outputId": "fdfa46f0-069a-49ed-b69c-31c72dac1926"
      },
      "source": [
        "plt.imshow(X_train[0])"
      ],
      "execution_count": 124,
      "outputs": [
        {
          "output_type": "execute_result",
          "data": {
            "text/plain": [
              "<matplotlib.image.AxesImage at 0x7f83677c5450>"
            ]
          },
          "metadata": {},
          "execution_count": 124
        },
        {
          "output_type": "display_data",
          "data": {
            "image/png": "[encoded data removed]",
            "text/plain": [
              "<Figure size 432x288 with 1 Axes>"
            ]
          },
          "metadata": {
            "needs_background": "light"
          }
        }
      ]
    },
    {
      "cell_type": "code",
      "metadata": {
        "colab": {
          "base_uri": "https://localhost:8080/"
        },
        "id": "zyepvP1X1GRa",
        "outputId": "59d2d932-f8e8-4f6d-cc1c-2ec4d7ab1035"
      },
      "source": [
        "Y_train[:5]"
      ],
      "execution_count": 126,
      "outputs": [
        {
          "output_type": "execute_result",
          "data": {
            "text/plain": [
              "array([[6],\n",
              "       [9],\n",
              "       [9],\n",
              "       [4],\n",
              "       [1]], dtype=uint8)"
            ]
          },
          "metadata": {},
          "execution_count": 126
        }
      ]
    },
    {
      "cell_type": "code",
      "metadata": {
        "colab": {
          "base_uri": "https://localhost:8080/"
        },
        "id": "i4EhAjA81NtM",
        "outputId": "60dbe3d1-6079-4712-cac9-40cfd342bcd1"
      },
      "source": [
        "Y_train = Y_train.reshape(-1,)\n",
        "Y_train[:5]"
      ],
      "execution_count": 127,
      "outputs": [
        {
          "output_type": "execute_result",
          "data": {
            "text/plain": [
              "array([6, 9, 9, 4, 1], dtype=uint8)"
            ]
          },
          "metadata": {},
          "execution_count": 127
        }
      ]
    },
    {
      "cell_type": "code",
      "metadata": {
        "id": "qGkK72Pd1ruK"
      },
      "source": [
        "classes = [\"airplane\",\"automobile\",\"bird\",\"cat\",\"deer\",\"dog\",\"frog\",\"horse\",\"ship\",\"truck\"]"
      ],
      "execution_count": 128,
      "outputs": []
    },
    {
      "cell_type": "code",
      "metadata": {
        "colab": {
          "base_uri": "https://localhost:8080/",
          "height": 35
        },
        "id": "OQX-pF-K1ns-",
        "outputId": "46bd27eb-4970-4d83-e3a5-42e1009e3d2b"
      },
      "source": [
        "classes[3]"
      ],
      "execution_count": 129,
      "outputs": [
        {
          "output_type": "execute_result",
          "data": {
            "application/vnd.google.colaboratory.intrinsic+json": {
              "type": "string"
            },
            "text/plain": [
              "'cat'"
            ]
          },
          "metadata": {},
          "execution_count": 129
        }
      ]
    },
    {
      "cell_type": "code",
      "metadata": {
        "id": "8IOav9KFzyYq"
      },
      "source": [
        "def plot_sample(X, Y, index) :\n",
        "    plt.figure(figsize=(15,2))\n",
        "    plt.imshow(X[index])\n",
        "    plt.xlabel(classes[Y[index]])\n"
      ],
      "execution_count": 130,
      "outputs": []
    },
    {
      "cell_type": "code",
      "metadata": {
        "colab": {
          "base_uri": "https://localhost:8080/",
          "height": 173
        },
        "id": "ki8i-SNbz1KT",
        "outputId": "ac88c2c1-9357-4b09-e2d4-36eb6d9e8d48"
      },
      "source": [
        "plot_sample(X_train, Y_train, 0)"
      ],
      "execution_count": 131,
      "outputs": [
        {
          "output_type": "display_data",
          "data": {
            "image/png": "[encoded data removed]",
            "text/plain": [
              "<Figure size 1080x144 with 1 Axes>"
            ]
          },
          "metadata": {
            "needs_background": "light"
          }
        }
      ]
    },
    {
      "cell_type": "code",
      "metadata": {
        "colab": {
          "base_uri": "https://localhost:8080/",
          "height": 173
        },
        "id": "iMMIGGQw3DS4",
        "outputId": "546db4db-f7b4-4690-c166-b01099c1d784"
      },
      "source": [
        "plot_sample(X_train, Y_train, 5)"
      ],
      "execution_count": 132,
      "outputs": [
        {
          "output_type": "display_data",
          "data": {
            "image/png": "[encoded data removed]",
            "text/plain": [
              "<Figure size 1080x144 with 1 Axes>"
            ]
          },
          "metadata": {
            "needs_background": "light"
          }
        }
      ]
    },
    {
      "cell_type": "code",
      "metadata": {
        "id": "v1f0Rl3SpVE9"
      },
      "source": [
        "from keras.models import Sequential\n",
        "from keras.layers import Dense, Conv2D, Flatten\n",
        "\n"
      ],
      "execution_count": 143,
      "outputs": []
    },
    {
      "cell_type": "markdown",
      "metadata": {
        "id": "3S-RVjZjpPY5"
      },
      "source": [
        "CNN MODEL\n"
      ]
    },
    {
      "cell_type": "code",
      "metadata": {
        "id": "pkDJAhbnPbrt"
      },
      "source": [
        "\n",
        "\n",
        "\n",
        "#create model\n",
        "model = Sequential()\n",
        "#add model layers\n",
        "# CNN\n",
        "model.add(Conv2D(64, kernel_size=3, activation='relu', input_shape=(32,32,3)))\n",
        "model.add(layers.MaxPooling2D((2,2)))\n",
        "model.add(Conv2D(32, kernel_size=3, activation='relu'))\n",
        "model.add(layers.MaxPooling2D((2,2)))\n",
        "\n",
        "# Dense\n",
        "model.add(Flatten())\n",
        "model.add(layers.Dense(64, activation='relu'))\n",
        "model.add(Dense(10, activation='softmax'))"
      ],
      "execution_count": 144,
      "outputs": []
    },
    {
      "cell_type": "code",
      "metadata": {
        "id": "q2yqNvtdLZTj"
      },
      "source": [
        "model.compile(optimizer='adam',\n",
        "              loss='sparse_categorical_crossentropy',\n",
        "              metrics=['accuracy'])"
      ],
      "execution_count": 134,
      "outputs": []
    },
    {
      "cell_type": "code",
      "metadata": {
        "colab": {
          "base_uri": "https://localhost:8080/"
        },
        "id": "5V7RX98Lark1",
        "outputId": "c065d2c7-84e0-48b3-d6fd-b36264baea48"
      },
      "source": [
        "model.summary()"
      ],
      "execution_count": 135,
      "outputs": [
        {
          "output_type": "stream",
          "name": "stdout",
          "text": [
            "Model: \"sequential_9\"\n",
            "_________________________________________________________________\n",
            "Layer (type)                 Output Shape              Param #   \n",
            "=================================================================\n",
            "conv2d_10 (Conv2D)           (None, 30, 30, 64)        1792      \n",
            "_________________________________________________________________\n",
            "max_pooling2d_7 (MaxPooling2 (None, 15, 15, 64)        0         \n",
            "_________________________________________________________________\n",
            "conv2d_11 (Conv2D)           (None, 13, 13, 32)        18464     \n",
            "_________________________________________________________________\n",
            "max_pooling2d_8 (MaxPooling2 (None, 6, 6, 32)          0         \n",
            "_________________________________________________________________\n",
            "flatten_9 (Flatten)          (None, 1152)              0         \n",
            "_________________________________________________________________\n",
            "dense_19 (Dense)             (None, 64)                73792     \n",
            "_________________________________________________________________\n",
            "dense_20 (Dense)             (None, 10)                650       \n",
            "=================================================================\n",
            "Total params: 94,698\n",
            "Trainable params: 94,698\n",
            "Non-trainable params: 0\n",
            "_________________________________________________________________\n"
          ]
        }
      ]
    },
    {
      "cell_type": "code",
      "metadata": {
        "colab": {
          "base_uri": "https://localhost:8080/"
        },
        "id": "oanBltvocHJY",
        "outputId": "d2275fd6-1675-4123-eee2-44f1fee35e61"
      },
      "source": [
        "\n",
        "\n",
        "model.fit(X_train, Y_train, epochs=15)"
      ],
      "execution_count": 136,
      "outputs": [
        {
          "output_type": "stream",
          "name": "stdout",
          "text": [
            "Epoch 1/15\n",
            "1563/1563 [==============================] - 71s 45ms/step - loss: 2.2485 - accuracy: 0.2599\n",
            "Epoch 2/15\n",
            "1563/1563 [==============================] - 69s 44ms/step - loss: 1.5059 - accuracy: 0.4590\n",
            "Epoch 3/15\n",
            "1563/1563 [==============================] - 69s 44ms/step - loss: 1.2858 - accuracy: 0.5498\n",
            "Epoch 4/15\n",
            "1563/1563 [==============================] - 69s 44ms/step - loss: 1.1480 - accuracy: 0.6015\n",
            "Epoch 5/15\n",
            "1563/1563 [==============================] - 69s 44ms/step - loss: 1.0552 - accuracy: 0.6348\n",
            "Epoch 6/15\n",
            "1563/1563 [==============================] - 70s 45ms/step - loss: 0.9744 - accuracy: 0.6642\n",
            "Epoch 7/15\n",
            "1563/1563 [==============================] - 70s 44ms/step - loss: 0.9117 - accuracy: 0.6865\n",
            "Epoch 8/15\n",
            "1563/1563 [==============================] - 70s 45ms/step - loss: 0.8547 - accuracy: 0.7043\n",
            "Epoch 9/15\n",
            "1563/1563 [==============================] - 73s 47ms/step - loss: 0.8034 - accuracy: 0.7196\n",
            "Epoch 10/15\n",
            "1563/1563 [==============================] - 73s 47ms/step - loss: 0.7614 - accuracy: 0.7351\n",
            "Epoch 11/15\n",
            "1563/1563 [==============================] - 73s 46ms/step - loss: 0.7334 - accuracy: 0.7453\n",
            "Epoch 12/15\n",
            "1563/1563 [==============================] - 73s 47ms/step - loss: 0.6922 - accuracy: 0.7596\n",
            "Epoch 13/15\n",
            "1563/1563 [==============================] - 71s 46ms/step - loss: 0.6672 - accuracy: 0.7672\n",
            "Epoch 14/15\n",
            "1563/1563 [==============================] - 71s 46ms/step - loss: 0.6353 - accuracy: 0.7787\n",
            "Epoch 15/15\n",
            "1563/1563 [==============================] - 71s 45ms/step - loss: 0.6104 - accuracy: 0.7866\n"
          ]
        },
        {
          "output_type": "execute_result",
          "data": {
            "text/plain": [
              "<keras.callbacks.History at 0x7f83711edd10>"
            ]
          },
          "metadata": {},
          "execution_count": 136
        }
      ]
    },
    {
      "cell_type": "code",
      "metadata": {
        "colab": {
          "base_uri": "https://localhost:8080/"
        },
        "id": "vrJnphpBc97L",
        "outputId": "366fbc5b-f078-4829-dc57-6e300fa1c279"
      },
      "source": [
        "model.evaluate(X_test, Y_test)"
      ],
      "execution_count": 138,
      "outputs": [
        {
          "output_type": "stream",
          "name": "stdout",
          "text": [
            "313/313 [==============================] - 4s 12ms/step - loss: 1.2691 - accuracy: 0.6404\n"
          ]
        },
        {
          "output_type": "execute_result",
          "data": {
            "text/plain": [
              "[1.2690892219543457, 0.6403999924659729]"
            ]
          },
          "metadata": {},
          "execution_count": 138
        }
      ]
    },
    {
      "cell_type": "code",
      "metadata": {
        "colab": {
          "base_uri": "https://localhost:8080/"
        },
        "id": "5ImzQPTojsxF",
        "outputId": "ac25ad73-0c7c-4d16-f988-7875d7f6af7b"
      },
      "source": [
        "Y_pred = model.predict(X_test)\n",
        "Y_pred[:5]"
      ],
      "execution_count": 139,
      "outputs": [
        {
          "output_type": "execute_result",
          "data": {
            "text/plain": [
              "array([[2.8185553e-03, 1.2750681e-03, 1.3295268e-02, 3.7513152e-01,\n",
              "        1.3885659e-02, 7.3517300e-02, 4.0556109e-01, 1.0615132e-02,\n",
              "        9.6468985e-02, 7.4314852e-03],\n",
              "       [1.0057493e-03, 2.4777214e-01, 4.3181697e-07, 6.5010681e-07,\n",
              "        3.3529731e-11, 4.5505754e-08, 9.5331176e-10, 4.7100002e-10,\n",
              "        7.5085837e-01, 3.6264095e-04],\n",
              "       [1.1949770e-01, 3.3064619e-01, 2.8393697e-03, 1.4456072e-03,\n",
              "        7.2477604e-05, 3.9954099e-04, 1.0289142e-05, 2.4759167e-04,\n",
              "        3.5745275e-01, 1.8738849e-01],\n",
              "       [9.2896986e-01, 6.4974749e-03, 1.4402588e-02, 4.9017365e-03,\n",
              "        4.3504946e-03, 2.2386004e-04, 6.0671631e-05, 5.4791715e-04,\n",
              "        3.6608752e-02, 3.4366706e-03],\n",
              "       [9.4355947e-08, 3.0256626e-07, 2.6398545e-04, 5.2620303e-03,\n",
              "        9.8587555e-01, 4.6036369e-04, 8.1308326e-03, 4.5051411e-06,\n",
              "        3.5628656e-07, 1.8615954e-06]], dtype=float32)"
            ]
          },
          "metadata": {},
          "execution_count": 139
        }
      ]
    },
    {
      "cell_type": "code",
      "metadata": {
        "colab": {
          "base_uri": "https://localhost:8080/"
        },
        "id": "US4yeWPPkHJF",
        "outputId": "f1f1d4c1-b8f3-443d-8a32-a344e546f10e"
      },
      "source": [
        "Y_classes = [np.argmax(element) for element in Y_pred]\n",
        "Y_classes[:5]"
      ],
      "execution_count": 140,
      "outputs": [
        {
          "output_type": "execute_result",
          "data": {
            "text/plain": [
              "[6, 8, 8, 0, 4]"
            ]
          },
          "metadata": {},
          "execution_count": 140
        }
      ]
    },
    {
      "cell_type": "code",
      "metadata": {
        "colab": {
          "base_uri": "https://localhost:8080/",
          "height": 35
        },
        "id": "4RyKpcS_mHZN",
        "outputId": "a9ec7d88-3337-4987-923c-3fcd659c684b"
      },
      "source": [
        "classes[Y_classes[3]]"
      ],
      "execution_count": 141,
      "outputs": [
        {
          "output_type": "execute_result",
          "data": {
            "application/vnd.google.colaboratory.intrinsic+json": {
              "type": "string"
            },
            "text/plain": [
              "'airplane'"
            ]
          },
          "metadata": {},
          "execution_count": 141
        }
      ]
    },
    {
      "cell_type": "code",
      "metadata": {
        "id": "EwnC080Mmf9G"
      },
      "source": [
        ""
      ],
      "execution_count": null,
      "outputs": []
    }
  ]
}